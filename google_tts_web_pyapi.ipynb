{
  "nbformat": 4,
  "nbformat_minor": 0,
  "metadata": {
    "colab": {
      "name": "google_tts_web_pyapi.ipynb",
      "provenance": [],
      "collapsed_sections": []
    },
    "kernelspec": {
      "name": "python3",
      "display_name": "Python 3"
    },
    "language_info": {
      "name": "python"
    }
  },
  "cells": [
    {
      "cell_type": "code",
      "metadata": {
        "id": "9K1KtXq5FQn-"
      },
      "source": [
        "!pip install google-cloud-texttospeech"
      ],
      "execution_count": null,
      "outputs": []
    },
    {
      "cell_type": "code",
      "metadata": {
        "id": "0V4Wi88oER6P"
      },
      "source": [
        "import os\n",
        "\n",
        "# set params, for more: https://cloud.google.com/text-to-speech/docs/reference/rpc/google.cloud.texttospeech.v1beta1\n",
        "params = {\"audio_encoding\":\"LINEAR16\",\n",
        "          \"voice_name\":'en-US-Wavenet-I',\n",
        "          \"speaking_rate\":1.0,\n",
        "          \"speaking_pitch\":0}\n",
        "\n",
        "path_to_save_audio = \"/content/\" + params['voice_name'] + \".mp3\"\n",
        "print(path_to_save_audio)\n",
        "# text example:\n",
        "# Google Cloud Text-to-Speech enables developers to synthesize natural-sounding speech with 100+ voices, available in multiple languages and variants.\n",
        "# It applies DeepMind’s groundbreaking research in WaveNet and Google’s powerful neural networks to deliver the highest fidelity possible. \n",
        "# As an easy-to-use API, you can create lifelike interactions with your users, across many applications and devices.\n",
        "path_to_text = '/content/script.txt'\n",
        "\n",
        "# 'webAPI or pyAPI'\n",
        "generate_flag = 'webAPI'\n",
        "\n",
        "# set credentials for pyAPI\n",
        "# tutorial for generating credentials_json: https://www.youtube.com/watch?v=gb0bytUGDnQ\n",
        "path_to_credentials = \"PATH_TO_YOUR_KEY.json\"\n",
        "os.environ['GOOGLE_APPLICATION_CREDENTIALS'] = path_to_credentials\n",
        "\n",
        "# set credentials for webAPI\n",
        "# tutorial for generating credentials_key: https://www.youtube.com/watch?v=y_vQvAqgqgA\n",
        "key = 'YOUR_TTS_API_KEY'\n",
        "post_url = 'https://texttospeech.googleapis.com/v1beta1/text:synthesize?fields=audioContent&key=' + key"
      ],
      "execution_count": null,
      "outputs": []
    },
    {
      "cell_type": "code",
      "metadata": {
        "id": "WFUkPT0NDQwB"
      },
      "source": [
        "def load_text(path_text):\n",
        "    text = []\n",
        "    with open(path_to_text, 'r') as text_file:\n",
        "        for single_line in text_file.readlines():\n",
        "            if single_line != None:\n",
        "              text.append(single_line.strip(\"\\n\"))\n",
        "    text = \"\".join(text)\n",
        "    return text\n",
        "\n",
        "def save_audio(path_audio,audio_content):\n",
        "      with open(path_audio, \"wb\") as outFile:\n",
        "        outFile.write(audio_content)\n",
        "        print('Audio content written to file:' + path_audio)"
      ],
      "execution_count": null,
      "outputs": []
    },
    {
      "cell_type": "code",
      "metadata": {
        "id": "gM58WJjwDfmZ"
      },
      "source": [
        "from google.cloud import texttospeech_v1beta1 as tts\n",
        "\n",
        "def text_to_speech_google_py(voice_name,text,audio_encoding,speaking_rate,speaking_pitch):\n",
        "    client = tts.TextToSpeechClient()\n",
        "    language_code = '-'.join(voice_name.split('-')[:2])\n",
        "    text_input = tts.SynthesisInput(text=text)\n",
        "    voice_params = tts.VoiceSelectionParams(\n",
        "        language_code=language_code,\n",
        "        name=voice_name)\n",
        "    audio_config = tts.AudioConfig(\n",
        "        audio_encoding=audio_encoding, speaking_rate=speaking_rate, pitch=speaking_pitch)\n",
        "\n",
        "    client = tts.TextToSpeechClient()\n",
        "    response = client.synthesize_speech(\n",
        "        input=text_input,\n",
        "        voice=voice_params,\n",
        "        audio_config=audio_config)\n",
        "    \n",
        "    return response.audio_content"
      ],
      "execution_count": null,
      "outputs": []
    },
    {
      "cell_type": "code",
      "metadata": {
        "id": "RsfcAJKmZPSS"
      },
      "source": [
        "import requests, json\n",
        "from base64 import b64decode\n",
        "\n",
        "def generate_request_body(params, text):\n",
        "    request_body = {\n",
        "          \"audioConfig\": {\n",
        "            \"audioEncoding\": params['audio_encoding'],\n",
        "            \"pitch\": params['speaking_pitch'],\n",
        "            \"speakingRate\": params['speaking_rate']\n",
        "          },\n",
        "          \"input\": {\n",
        "            \"text\": text\n",
        "          },\n",
        "          \"voice\": {\n",
        "            \"languageCode\": '-'.join(params['voice_name'].split('-')[:2]),\n",
        "            \"name\": params['voice_name']\n",
        "          }\n",
        "        }\n",
        "    return json.dumps(request_body)\n",
        "\n",
        "\n",
        "def text_to_speech_google_web(params, text):\n",
        "    data = generate_request_body(params, text) \n",
        "    b64_response = requests.post(post_url,data=data).json()\n",
        "    return b64decode(b64_response['audioContent'])"
      ],
      "execution_count": null,
      "outputs": []
    },
    {
      "cell_type": "code",
      "metadata": {
        "id": "TShJZl0aG8Qg"
      },
      "source": [
        "import sys\n",
        "\n",
        "text = load_text(path_to_text)\n",
        "\n",
        "if generate_flag == 'webAPI':\n",
        "    audio_content = text_to_speech_google_web(params,text)\n",
        "elif generate_flag == 'pyAPI':\n",
        "    audio_content = text_to_speech_google_py(params['voice_name'],text,params['audio_encoding'],params['speaking_rate'],params['speaking_pitch'])\n",
        "else:\n",
        "    print(\"Please check the generate_flag, which should be web or py method, but your method is {}.\".format(generate_flag))\n",
        "    sys.exit()\n",
        "\n",
        "save_audio(path_to_save_audio, audio_content)"
      ],
      "execution_count": null,
      "outputs": []
    }
  ]
}